{
 "cells": [
  {
   "cell_type": "markdown",
   "id": "39d036a6",
   "metadata": {},
   "source": [
    "# CSME2 Bonus Point Assignment II Parts 1 and 2\n",
    "<div style=\"text-align: right;font-size: 0.8em\">Document Version 2.0.0, released 2022-01-29</div>\n",
    "For task instructions, refer to the assignment PDF.\n",
    "\n",
    "* The parts of the code you are to implement are indicated via `# FILL HERE` comments.\n",
    "* Some cells create export file in the `output/` folder. _Include whole `output/` folder in your submission_.\n",
    "* Make sure you restart the notebook's kernel and run everything in one go before submission\n",
    "* DO NOT CLEAR THE OUTPUT of the notebook you are submitting."
   ]
  },
  {
   "cell_type": "code",
   "execution_count": null,
   "id": "61546bf8",
   "metadata": {},
   "outputs": [],
   "source": [
    "import torch\n",
    "import torchvision.datasets.ImageFolder as ImageFolder\n",
    "import torchvision.transforms as transforms\n",
    "import torch.utils.data.DataLoader as DataLoader\n",
    "\n",
    "from tqdm.auto import tqdm\n",
    "from pathlib import Path\n",
    "\n",
    "ROOT = Path('.')\n",
    "DATA = ROOT / 'data'\n",
    "EXAMPLE_IMAGE = DATA / 'example_image.png'\n",
    "OUTPUT = ROOT / 'output'\n",
    "\n",
    "OUTPUT.mkdir(exist_ok=True)\n",
    "\n",
    "# Enable reproducibility\n",
    "torch.manual_seed(0)\n",
    "torch.set_deterministic(True)"
   ]
  },
  {
   "cell_type": "code",
   "execution_count": null,
   "id": "055bbfb2",
   "metadata": {},
   "outputs": [],
   "source": [
    "##### FILL HERE #####\n",
    "#### Question 3.2 ###\n",
    "train_ds = None\n",
    "val_ds = None\n",
    "#####################"
   ]
  },
  {
   "cell_type": "code",
   "execution_count": null,
   "id": "082604f4",
   "metadata": {
    "scrolled": true
   },
   "outputs": [],
   "source": [
    "class SimpLeNet(torch.nn.Module):\n",
    "    def __init__(self):\n",
    "        super().__init__()\n",
    "        ##### FILL HERE #####\n",
    "        #### Question 3.3 ###\n",
    "        #####################\n",
    "        \n",
    "    def forward(self, x):\n",
    "        ##### FILL HERE #####\n",
    "        #### Question 3.3 ###\n",
    "        #####################\n",
    "        pass"
   ]
  },
  {
   "cell_type": "code",
   "execution_count": null,
   "id": "c30fda90",
   "metadata": {},
   "outputs": [],
   "source": [
    "def train(net, batch_size, epochs, learning_rate, qname):\n",
    "    criterion = toch.nn.BCELoss()\n",
    "    optimizer = optim.Adam(net.parameters(), lr=learning_rate)\n",
    "    losses = []\n",
    "    \n",
    "    ##### FILL HERE #####\n",
    "    #### Question 3.4 ###\n",
    "    # Create dataloader from train_ds\n",
    "    dataloader = None\n",
    "    #####################\n",
    "    \n",
    "    with tqdm(range(epochs)) as pbar:\n",
    "        for epoch in pbar:  # loop over the dataset multiple times\n",
    "            running_loss = 0.0\n",
    "            for i, (inputs, labels) in enumerate(dataloader):\n",
    "                # zero the parameter gradients\n",
    "                optimizer.zero_grad()\n",
    "\n",
    "                # forward + backward + optimize\n",
    "                outputs = net(inputs)\n",
    "\n",
    "                loss = criterion(outputs, labels)\n",
    "                loss.backward()\n",
    "                optimizer.step()\n",
    "\n",
    "                # training curve\n",
    "                running_loss += loss.item() * inputs.shape[0]\n",
    "            \n",
    "            ##### FILL HERE #####\n",
    "            #### Question 3.4 ###\n",
    "            # Compute Validation loss\n",
    "            val_loss = 0.\n",
    "            #####################\n",
    "            \n",
    "            losses.append([running_loss, val_loss])\n",
    "            pbar.set_description(f\"Loss {losses[-1][0]:.02f}/{losses[-1][1]:.02f}\")\n",
    "    \n",
    "    # Save outputs\n",
    "    with open(str(OUTPUT / f'{qname}.pt'), \"wb\") as f:\n",
    "        torch.save(net, f)\n",
    "    losses = np.array(losses)\n",
    "    plt.plot(np.arange(len(losses)), losses[:, 0], label=\"train\")\n",
    "    plt.plot(np.arange(len(losses)), losses[:, 1], label=\"validation\")\n",
    "    plt.xlabel(\"epoch\")\n",
    "    plt.ylabel(\"loss\")\n",
    "    plt.legend()\n",
    "    plt.tight_layout()\n",
    "    plt.savefig(str(OUTPUT / f'{qname}.png'))"
   ]
  },
  {
   "cell_type": "code",
   "execution_count": null,
   "id": "6e0272f2",
   "metadata": {},
   "outputs": [],
   "source": [
    "##### RUN HERE #####\n",
    "#### Question 3.4 ###\n",
    "net = SimpLeNet()\n",
    "batch_size = 32\n",
    "epochs = 10\n",
    "learning_rate = 0.1\n",
    "qname = 'question_3-4'\n",
    "net.summary()\n",
    "train(net, batch_size, epochs, learning_rate, qname)\n",
    "#####################"
   ]
  },
  {
   "cell_type": "code",
   "execution_count": null,
   "id": "7749d958",
   "metadata": {},
   "outputs": [],
   "source": [
    "class ConvNet(torch.nn.Module):\n",
    "    def __init__(self):\n",
    "        super().__init__()\n",
    "        ##### FILL HERE #####\n",
    "        #### Question 3.5 ###\n",
    "        #####################\n",
    "\n",
    "    def forward(self, x):\n",
    "        ##### FILL HERE #####\n",
    "        #### Question 3.5 ###\n",
    "        #####################\n",
    "        pass"
   ]
  },
  {
   "cell_type": "code",
   "execution_count": null,
   "id": "b88448d4",
   "metadata": {},
   "outputs": [],
   "source": [
    "##### RUN HERE #####\n",
    "#### Question 3.5 ###\n",
    "convnet = ConvNet()\n",
    "batch_size = 32\n",
    "epochs = 10\n",
    "learning_rate = 0.1\n",
    "qname = 'question_3-5'\n",
    "convnet.summary()\n",
    "train(net, batch_size, epochs, learning_rate, qname)\n",
    "#####################"
   ]
  }
 ],
 "metadata": {
  "kernelspec": {
   "display_name": "Python 3 (ipykernel)",
   "language": "python",
   "name": "python3"
  },
  "language_info": {
   "codemirror_mode": {
    "name": "ipython",
    "version": 3
   },
   "file_extension": ".py",
   "mimetype": "text/x-python",
   "name": "python",
   "nbconvert_exporter": "python",
   "pygments_lexer": "ipython3",
   "version": "3.9.2"
  }
 },
 "nbformat": 4,
 "nbformat_minor": 5
}
