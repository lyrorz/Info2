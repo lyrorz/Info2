{
 "cells": [
  {
   "cell_type": "markdown",
   "id": "2d9f6be7",
   "metadata": {},
   "source": [
    "# CSME2 Bonus Point Assignment II Part 3\n",
    "<div style=\"text-align: right;font-size: 0.8em\">Document Version 2.1.2, released 2022-02-17</div>\n",
    "For task instructions, refer to the assignment PDF.\n",
    "\n",
    "* The parts of the code you are to implement are indicated via `# FILL HERE` comments.\n",
    "* Some cells create export file in the `output/` folder. _Include whole `output/` folder in your submission_.\n",
    "* Make sure you restart the notebook's kernel and run everything in one go before submission\n",
    "* DO NOT CLEAR THE OUTPUT of the notebook you are submitting.\n",
    "\n",
    "_v2.1.0 Fix imports and set default dtype to float_"
   ]
  },
  {
   "cell_type": "code",
   "execution_count": null,
   "id": "c15c1814",
   "metadata": {},
   "outputs": [],
   "source": [
    "import torch\n",
    "import torch.optim\n",
    "from torchvision.datasets import ImageFolder\n",
    "import torchvision.transforms as transforms\n",
    "from torch.utils.data import DataLoader\n",
    "import numpy as np\n",
    "import matplotlib.pyplot as plt\n",
    "\n",
    "from tqdm.auto import tqdm\n",
    "from pathlib import Path\n",
    "\n",
    "ROOT = Path('.')\n",
    "DATA = ROOT / 'data'\n",
    "EXAMPLE_IMAGE = DATA / 'example_image.png'\n",
    "OUTPUT = ROOT / 'output'\n",
    "\n",
    "OUTPUT.mkdir(exist_ok=True)\n",
    "\n",
    "# Enable reproducibility\n",
    "torch.manual_seed(0)\n",
    "torch.set_deterministic(True)\n",
    "torch.set_default_dtype(torch.float32)"
   ]
  },
  {
   "cell_type": "code",
   "execution_count": null,
   "id": "8edc226c",
   "metadata": {},
   "outputs": [],
   "source": [
    "##### FILL HERE #####\n",
    "#### Question 3.2 ###\n",
    "train_ds = None\n",
    "val_ds = None\n",
    "#####################"
   ]
  },
  {
   "cell_type": "code",
   "execution_count": null,
   "id": "10265d58",
   "metadata": {
    "scrolled": true
   },
   "outputs": [],
   "source": [
    "class SimpLeNet(torch.nn.Module):\n",
    "    def __init__(self):\n",
    "        super().__init__()\n",
    "        ##### FILL HERE #####\n",
    "        #### Question 3.3 ###\n",
    "        #####################\n",
    "        \n",
    "    def forward(self, x):\n",
    "        ##### FILL HERE #####\n",
    "        #### Question 3.3 ###\n",
    "        #####################\n",
    "        pass"
   ]
  },
  {
   "cell_type": "markdown",
   "id": "5854c268",
   "metadata": {},
   "source": [
    "_v2.1.0: fix typos, cast tensors to float and reshape outputs to labels_\n",
    "\n",
    "_v2.1.1: add indication that labels should be transformed to either 0. or 1., so the loss function can understand them_\n",
    "\n",
    "_v2.1.2: clarify comment on label transformation; the transformation is not necessary if the labels are already in the correct format_"
   ]
  },
  {
   "cell_type": "code",
   "execution_count": null,
   "id": "4cfb6e36",
   "metadata": {},
   "outputs": [],
   "source": [
    "def train(net, batch_size, epochs, learning_rate, qname):\n",
    "    n_params = sum(p.numel() for p in net.parameters() if p.requires_grad)\n",
    "    print(f'Number of trainable parameters: {n_params}')\n",
    "    \n",
    "    criterion = torch.nn.BCELoss()\n",
    "    optimizer = torch.optim.Adam(net.parameters(), lr=learning_rate)\n",
    "    losses = []\n",
    "    \n",
    "    ##### FILL HERE #####\n",
    "    #### Question 3.4 ###\n",
    "    # Create dataloader from train_ds\n",
    "    dataloader = None\n",
    "    #####################\n",
    "    \n",
    "    with tqdm(range(epochs)) as pbar:\n",
    "        for epoch in pbar:  # loop over the dataset multiple times\n",
    "            running_loss = 0.0\n",
    "            for i, (inputs, labels) in enumerate(dataloader):\n",
    "                # zero the parameter gradients\n",
    "                optimizer.zero_grad()\n",
    "                \n",
    "                ##### FILL HERE #####\n",
    "                #### Question 3.4 ###\n",
    "                # Transform the class labels (in variable `labels`)\n",
    "                # to be either 0. or 1, so the loss function\n",
    "                # can understand them\n",
    "                # This step is NOT REQUIRED if your labels\n",
    "                # are already in the correct format\n",
    "                #####################\n",
    "                \n",
    "                # forward + backward + optimize\n",
    "                outputs = net(inputs.to(torch.float32))\n",
    "                outputs = outputs.reshape(labels.shape)\n",
    "                loss = criterion(outputs, labels.to(torch.float32))\n",
    "                loss.backward()\n",
    "                optimizer.step()\n",
    "\n",
    "                # training curve\n",
    "                running_loss += loss.item() * inputs.shape[0]\n",
    "            \n",
    "            ##### FILL HERE #####\n",
    "            #### Question 3.4 ###\n",
    "            # Compute Validation loss\n",
    "            val_loss = 0.\n",
    "            #####################\n",
    "            \n",
    "            losses.append([running_loss, val_loss])\n",
    "            pbar.set_description(f\"Loss {losses[-1][0]:.02f}/{losses[-1][1]:.02f}\")\n",
    "    \n",
    "    # Save outputs\n",
    "    with open(str(OUTPUT / f'{qname}.pt'), \"wb\") as f:\n",
    "        torch.save(net, f)\n",
    "    losses = np.array(losses)\n",
    "    plt.plot(np.arange(len(losses)), losses[:, 0], label=\"train\")\n",
    "    plt.plot(np.arange(len(losses)), losses[:, 1], label=\"validation\")\n",
    "    plt.xlabel(\"epoch\")\n",
    "    plt.ylabel(\"loss\")\n",
    "    plt.legend()\n",
    "    plt.tight_layout()\n",
    "    plt.savefig(str(OUTPUT / f'{qname}.png'))"
   ]
  },
  {
   "cell_type": "code",
   "execution_count": null,
   "id": "624bee89",
   "metadata": {},
   "outputs": [],
   "source": [
    "##### RUN HERE #####\n",
    "#### Question 3.4 ###\n",
    "net = SimpLeNet()\n",
    "batch_size = 32\n",
    "epochs = 3\n",
    "learning_rate = 0.1\n",
    "qname = 'question_3-4'\n",
    "print(net)\n",
    "train(net, batch_size, epochs, learning_rate, qname)\n",
    "#####################"
   ]
  },
  {
   "cell_type": "code",
   "execution_count": null,
   "id": "8d5c24b7",
   "metadata": {},
   "outputs": [],
   "source": [
    "class ConvNet(torch.nn.Module):\n",
    "    def __init__(self):\n",
    "        super().__init__()\n",
    "        ##### FILL HERE #####\n",
    "        #### Question 3.5 ###\n",
    "        #####################\n",
    "\n",
    "    def forward(self, x):\n",
    "        ##### FILL HERE #####\n",
    "        #### Question 3.5 ###\n",
    "        #####################\n",
    "        pass"
   ]
  },
  {
   "cell_type": "code",
   "execution_count": null,
   "id": "800c20d8",
   "metadata": {},
   "outputs": [],
   "source": [
    "##### RUN HERE #####\n",
    "#### Question 3.5 ###\n",
    "convnet = ConvNet()\n",
    "batch_size = 32\n",
    "epochs = 10\n",
    "learning_rate = 0.1\n",
    "qname = 'question_3-5'\n",
    "print(convnet)\n",
    "train(net, batch_size, epochs, learning_rate, qname)\n",
    "#####################"
   ]
  }
 ],
 "metadata": {
  "kernelspec": {
   "display_name": "Python 3 (ipykernel)",
   "language": "python",
   "name": "python3"
  },
  "language_info": {
   "codemirror_mode": {
    "name": "ipython",
    "version": 3
   },
   "file_extension": ".py",
   "mimetype": "text/x-python",
   "name": "python",
   "nbconvert_exporter": "python",
   "pygments_lexer": "ipython3",
   "version": "3.9.2"
  }
 },
 "nbformat": 4,
 "nbformat_minor": 5
}
