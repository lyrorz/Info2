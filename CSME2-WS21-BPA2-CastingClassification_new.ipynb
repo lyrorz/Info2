{
 "cells": [
  {
   "cell_type": "markdown",
   "id": "2d9f6be7",
   "metadata": {},
   "source": [
    "# CSME2 Bonus Point Assignment II Part 3\n",
    "<div style=\"text-align: right;font-size: 0.8em\">Document Version 2.1.0, released 2022-02-09</div>\n",
    "For task instructions, refer to the assignment PDF.\n",
    "\n",
    "* The parts of the code you are to implement are indicated via `# FILL HERE` comments.\n",
    "* Some cells create export file in the `output/` folder. _Include whole `output/` folder in your submission_.\n",
    "* Make sure you restart the notebook's kernel and run everything in one go before submission\n",
    "* DO NOT CLEAR THE OUTPUT of the notebook you are submitting.\n",
    "\n",
    "_v2.1.0 Fix imports and set default dtype to float_"
   ]
  },
  {
   "cell_type": "code",
   "execution_count": 24,
   "id": "c15c1814",
   "metadata": {},
   "outputs": [
    {
     "name": "stderr",
     "output_type": "stream",
     "text": [
      "/Users/ryan/.conda/envs/Info2/lib/python3.9/site-packages/torch/__init__.py:471: UserWarning: torch.set_deterministic is deprecated and will be removed in a future release. Please use torch.use_deterministic_algorithms instead\n",
      "  warnings.warn((\n"
     ]
    }
   ],
   "source": [
    "import torch\n",
    "import torch.optim\n",
    "from torchvision.datasets import ImageFolder\n",
    "import torchvision.transforms as transforms\n",
    "from torch.utils.data import DataLoader\n",
    "import numpy as np\n",
    "import matplotlib.pyplot as plt\n",
    "\n",
    "from tqdm.auto import tqdm\n",
    "from pathlib import Path\n",
    "\n",
    "ROOT = Path('.')\n",
    "DATA = ROOT / 'data'\n",
    "EXAMPLE_IMAGE = DATA / 'example_image.png'\n",
    "OUTPUT = ROOT / 'output'\n",
    "\n",
    "OUTPUT.mkdir(exist_ok=True)\n",
    "\n",
    "# Enable reproducibility\n",
    "torch.manual_seed(0)\n",
    "torch.set_deterministic(True)\n",
    "torch.set_default_dtype(torch.float32)"
   ]
  },
  {
   "cell_type": "code",
   "execution_count": 25,
   "id": "8edc226c",
   "metadata": {},
   "outputs": [],
   "source": [
    "##### FILL HERE #####\n",
    "#### Question 3.2 ###\n",
    "transform = transforms.Compose([\n",
    "    transforms.ToTensor()])\n",
    "train_ds = ImageFolder(DATA / 'train',transform=transform)\n",
    "val_ds = ImageFolder(DATA / 'test',transform=transform)\n",
    "#####################"
   ]
  },
  {
   "cell_type": "code",
   "execution_count": 26,
   "id": "10265d58",
   "metadata": {
    "scrolled": true
   },
   "outputs": [],
   "source": [
    "class SimpLeNet(torch.nn.Module):\n",
    "    def __init__(self):\n",
    "        super().__init__()\n",
    "        ##### FILL HERE #####\n",
    "        #### Question 3.3 ###\n",
    "        #####################\n",
    "\n",
    "        self.conv1 = torch.nn.Conv2d(3,16,3,stride=1,padding=1)\n",
    "        self.pool =  torch.nn.MaxPool2d(2,stride=2)\n",
    "        self.fc1 =  torch.nn.Linear(16*150*150,16)\n",
    "        self.fc2 = torch.nn.Linear(16,1)\n",
    "        \n",
    "    def forward(self, x):\n",
    "        ##### FILL HERE #####\n",
    "        #### Question 3.3 ###\n",
    "        #####################\n",
    "        x = self.conv1(x)\n",
    "        x = self.pool(x)\n",
    "        x = torch.flatten(x,1)\n",
    "        x = torch.relu(self.fc1(x))\n",
    "        x = torch.sigmoid(self.fc2(x))\n",
    "        return x"
   ]
  },
  {
   "cell_type": "markdown",
   "id": "5854c268",
   "metadata": {},
   "source": [
    "_v2.1.0: fix typos, cast tensors to float and reshape outputs to labels_\n",
    "\n",
    "_v2.1.1: add indication that labels should be transformed to either 0. or 1., so the loss function can understand them_"
   ]
  },
  {
   "cell_type": "code",
   "execution_count": 27,
   "id": "4cfb6e36",
   "metadata": {},
   "outputs": [],
   "source": [
    "def train(net, batch_size, epochs, learning_rate, qname):\n",
    "    n_params = sum(p.numel() for p in net.parameters() if p.requires_grad)\n",
    "    print(f'Number of trainable parameters: {n_params}')\n",
    "    \n",
    "    criterion = torch.nn.BCELoss()\n",
    "    optimizer = torch.optim.Adam(net.parameters(), lr=learning_rate)\n",
    "    losses = []\n",
    "    \n",
    "    ##### FILL HERE #####\n",
    "    #### Question 3.4 ###\n",
    "    # Create dataloader from train_ds\n",
    "    dataloader = DataLoader(train_ds,batch_size=batch_size,shuffle=True)\n",
    "    dataloader_val = DataLoader(val_ds,batch_size=batch_size,shuffle=True)\n",
    "    #####################\n",
    "    \n",
    "    with tqdm(range(epochs)) as pbar:\n",
    "        for epoch in pbar:  # loop over the dataset multiple times\n",
    "            running_loss = 0.0\n",
    "            for i, (inputs, labels) in enumerate(dataloader):\n",
    "                # zero the parameter gradients\n",
    "                optimizer.zero_grad()\n",
    "                \n",
    "                ##### FILL HERE #####\n",
    "                #### Question 3.4 ###\n",
    "                # Transform the class labels (in variable `labels`)\n",
    "                # to be either 0. or 1, so the loss function\n",
    "                # can understand them\n",
    "                val_loss = 0.\n",
    "                for (inputs_val,labels_val) in dataloader_val:\n",
    "                    outputs_val = net(inputs_val)\n",
    "                    loss_val = criterion(outputs_val, labels_val.unsqueeze(dim=1).float())\n",
    "                    val_loss += loss_val.item()*inputs_val.shape[0]\n",
    "\n",
    "\n",
    "                #####################\n",
    "                \n",
    "                # forward + backward + optimize\n",
    "                outputs = net(inputs.to(torch.float32))\n",
    "                outputs = outputs.reshape(labels.shape)\n",
    "                loss = criterion(outputs, labels.to(torch.float32))\n",
    "                loss.backward()\n",
    "                optimizer.step()\n",
    "\n",
    "                # training curve\n",
    "                running_loss += loss.item() * inputs.shape[0]\n",
    "            \n",
    "            ##### FILL HERE #####\n",
    "            #### Question 3.4 ###\n",
    "            # Compute Validation loss\n",
    "            val_loss = 0.\n",
    "            for i, (inputs_val,labels_val) in enumerate(dataloader_val):\n",
    "                outputs_val = net(inputs_val)\n",
    "                loss_val = criterion(outputs_val, labels_val.unsqueeze(dim=1).float())\n",
    "                val_loss += loss_val.item()*inputs_val.shape[0]\n",
    "            #####################\n",
    "            \n",
    "            losses.append([running_loss, val_loss])\n",
    "            pbar.set_description(f\"Loss {losses[-1][0]:.02f}/{losses[-1][1]:.02f}\")\n",
    "    \n",
    "    # Save outputs\n",
    "    with open(str(OUTPUT / f'{qname}.pt'), \"wb\") as f:\n",
    "        torch.save(net, f)\n",
    "    losses = np.array(losses)\n",
    "    plt.plot(np.arange(len(losses)), losses[:, 0], label=\"train\")\n",
    "    plt.plot(np.arange(len(losses)), losses[:, 1], label=\"validation\")\n",
    "    plt.xlabel(\"epoch\")\n",
    "    plt.ylabel(\"loss\")\n",
    "    plt.legend()\n",
    "    plt.tight_layout()\n",
    "    plt.savefig(str(OUTPUT / f'{qname}.png'))"
   ]
  },
  {
   "cell_type": "code",
   "execution_count": 28,
   "id": "624bee89",
   "metadata": {},
   "outputs": [
    {
     "name": "stdout",
     "output_type": "stream",
     "text": [
      "SimpLeNet(\n",
      "  (conv1): Conv2d(3, 16, kernel_size=(3, 3), stride=(1, 1), padding=(1, 1))\n",
      "  (pool): MaxPool2d(kernel_size=2, stride=2, padding=0, dilation=1, ceil_mode=False)\n",
      "  (fc1): Linear(in_features=360000, out_features=16, bias=True)\n",
      "  (fc2): Linear(in_features=16, out_features=1, bias=True)\n",
      ")\n",
      "Number of trainable parameters: 5760481\n"
     ]
    },
    {
     "data": {
      "text/plain": "  0%|          | 0/3 [00:00<?, ?it/s]",
      "application/vnd.jupyter.widget-view+json": {
       "version_major": 2,
       "version_minor": 0,
       "model_id": "5ac190b039f34cee81cdeb3c60257306"
      }
     },
     "metadata": {},
     "output_type": "display_data"
    },
    {
     "data": {
      "text/plain": "<Figure size 432x288 with 1 Axes>",
      "image/png": "[encoded data removed]"
     },
     "metadata": {
      "needs_background": "light"
     },
     "output_type": "display_data"
    }
   ],
   "source": [
    "##### RUN HERE #####\n",
    "#### Question 3.4 ###\n",
    "net = SimpLeNet()\n",
    "batch_size = 32\n",
    "epochs = 3\n",
    "learning_rate = 0.1\n",
    "qname = 'question_3-4'\n",
    "print(net)\n",
    "train(net, batch_size, epochs, learning_rate, qname)\n",
    "#####################"
   ]
  },
  {
   "cell_type": "code",
   "execution_count": 29,
   "id": "8d5c24b7",
   "metadata": {},
   "outputs": [],
   "source": [
    "class ConvNet(torch.nn.Module):\n",
    "    def __init__(self):\n",
    "        super().__init__()\n",
    "        ##### FILL HERE #####\n",
    "        #### Question 3.5 ###\n",
    "        #####################\n",
    "        self.conv1 = torch.nn.Conv2d(3,16,3,stride=1,padding=1)\n",
    "        self.pool =  torch.nn.MaxPool2d(6,stride=6)\n",
    "        self.fc1 =  torch.nn.Linear(16*50*50,8)\n",
    "        self.fc2 = torch.nn.Linear(8,1)\n",
    "\n",
    "    def forward(self, x):\n",
    "        ##### FILL HERE #####\n",
    "        #### Question 3.5 ###\n",
    "        #####################\n",
    "        x = self.conv1(x)\n",
    "        x = self.pool(x)\n",
    "        x = torch.flatten(x,1)\n",
    "        x = torch.relu(self.fc1(x))\n",
    "        x = torch.sigmoid(self.fc2(x))\n",
    "        return x\n"
   ]
  },
  {
   "cell_type": "code",
   "execution_count": 30,
   "id": "800c20d8",
   "metadata": {
    "pycharm": {
     "name": "#%%\n"
    }
   },
   "outputs": [
    {
     "name": "stdout",
     "output_type": "stream",
     "text": [
      "ConvNet(\n",
      "  (conv1): Conv2d(3, 16, kernel_size=(3, 3), stride=(1, 1), padding=(1, 1))\n",
      "  (pool): MaxPool2d(kernel_size=6, stride=6, padding=0, dilation=1, ceil_mode=False)\n",
      "  (fc1): Linear(in_features=40000, out_features=8, bias=True)\n",
      "  (fc2): Linear(in_features=8, out_features=1, bias=True)\n",
      ")\n",
      "Number of trainable parameters: 320465\n"
     ]
    },
    {
     "data": {
      "text/plain": "  0%|          | 0/3 [00:00<?, ?it/s]",
      "application/vnd.jupyter.widget-view+json": {
       "version_major": 2,
       "version_minor": 0,
       "model_id": "2d2af50344204ca9955dcf42f1d46263"
      }
     },
     "metadata": {},
     "output_type": "display_data"
    },
    {
     "data": {
      "text/plain": "<Figure size 432x288 with 1 Axes>",
      "image/png": "[encoded data removed]"
     },
     "metadata": {
      "needs_background": "light"
     },
     "output_type": "display_data"
    }
   ],
   "source": [
    "##### RUN HERE #####\n",
    "#### Question 3.5 ###\n",
    "convnet = ConvNet()\n",
    "batch_size = 32\n",
    "epochs = 3\n",
    "learning_rate = 0.001\n",
    "qname = 'question_3-5'\n",
    "print(convnet)\n",
    "train(convnet, batch_size, epochs, learning_rate, qname)\n",
    "#####################"
   ]
  }
 ],
 "metadata": {
  "kernelspec": {
   "display_name": "Python 3 (ipykernel)",
   "language": "python",
   "name": "python3"
  },
  "language_info": {
   "codemirror_mode": {
    "name": "ipython",
    "version": 3
   },
   "file_extension": ".py",
   "mimetype": "text/x-python",
   "name": "python",
   "nbconvert_exporter": "python",
   "pygments_lexer": "ipython3",
   "version": "3.9.2"
  }
 },
 "nbformat": 4,
 "nbformat_minor": 5
}