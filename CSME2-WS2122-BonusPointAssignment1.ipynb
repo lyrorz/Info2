{
 "cells": [
  {
   "cell_type": "markdown",
   "id": "336ddf43-7a51-4942-88b1-fbef05d440a8",
   "metadata": {},
   "source": [
    "# CSME2 Bonus Point Assignment 1\n",
    "\n",
    "<div style=\"text-align: right;font-size: 0.8em\">Document Version 1.0.0, released 01/12/2021</div>\n",
    "For detailed task instructions, please refer to the assignment PDF.\n",
    "\n",
    "DO NOT CLEAR THE OUTPUT of the notebook you are submitting!"
   ]
  },
  {
   "cell_type": "code",
   "execution_count": 20,
   "id": "55262e5f-2f40-4108-9138-7a526f6fa4c0",
   "metadata": {},
   "outputs": [],
   "source": [
    "# Add any additional import you need in this cell\n",
    "import numpy as np\n",
    "import scipy.io as scio\n",
    "from sklearn.cluster import kmeans_plusplus\n",
    "from sklearn.preprocessing import PolynomialFeatures\n",
    "np.random.seed(1234)"
   ]
  },
  {
   "cell_type": "markdown",
   "id": "e16807c6-9b2d-479f-a48c-61fd2cc82796",
   "metadata": {},
   "source": [
    "### Setup\n",
    "__Task A.1__ Load the data into the following numpy arrays. For the output, only use the first torque variable.\n",
    "Randomly split the data from the file ```sarcos_inv.mat``` into a training set (80%) and a validation set (20%)."
   ]
  },
  {
   "cell_type": "code",
   "execution_count": 21,
   "id": "c91bf5d1-90f6-4f61-a681-1242f3f81364",
   "metadata": {},
   "outputs": [],
   "source": [
    "# Input and output training data\n",
    "data = scio.loadmat('sarcos_inv.mat')['sarcos_inv']\n",
    "np.random.shuffle(data)\n",
    "n = data.shape[0]\n",
    "xs_train = data[:int(n*0.8),:21]\n",
    "ys_train = data[:int(n*0.8),21].reshape(-1,1)\n",
    "# Input and output validation data\n",
    "\n",
    "xs_valid = data[int(n*0.8):,:21]\n",
    "ys_valid = data[int(n*0.8):,21].reshape(-1,1)\n",
    "\n",
    "# Input and output test data\n",
    "data = scio.loadmat('sarcos_inv_test.mat')['sarcos_inv_test']\n",
    "xs_test = data[:,:21]\n",
    "ys_test = data[:,21].reshape(-1,1)"
   ]
  },
  {
   "cell_type": "code",
   "execution_count": 22,
   "id": "432e41e8-7fa4-4d0a-a3b2-0c6881c7dbf8",
   "metadata": {},
   "outputs": [
    {
     "name": "stdout",
     "output_type": "stream",
     "text": [
      "(35587, 21)\n",
      "(35587, 1)\n",
      "(8897, 21)\n",
      "(8897, 1)\n",
      "(4449, 21)\n",
      "(4449, 1)\n"
     ]
    }
   ],
   "source": [
    "# Check for yourself \n",
    "# The following should lead to output \n",
    "# (44484, 21)\n",
    "# (44484, 1)\n",
    "# (8897, 21)\n",
    "# (8897, 1)\n",
    "# (4449, 21)\n",
    "# (4449, 1)\n",
    "\n",
    "print(xs_train.shape)\n",
    "print(ys_train.shape)\n",
    "print(xs_valid.shape)\n",
    "print(ys_valid.shape)\n",
    "print(xs_test.shape)\n",
    "print(ys_test.shape)"
   ]
  },
  {
   "cell_type": "markdown",
   "id": "1cd20cae-ee79-4a62-84ca-a1e73b10cd33",
   "metadata": {},
   "source": [
    "__Task A.2__ Standardize the data such that\n",
    "1. Training inputs have mean 0\n",
    "2. Each training input variable has variance 1\n",
    "3. The training outputs have mean 0\n",
    "4. Apply the same transformation to the validation and test data\n",
    "\n",
    "Implement this manually, i.e., do not use a ready scaler like the one provided by scikit-learn."
   ]
  },
  {
   "cell_type": "code",
   "execution_count": 23,
   "id": "5c152c5c-c06b-4d99-8950-750bbcffabda",
   "metadata": {},
   "outputs": [],
   "source": [
    "# Store the standardized data in the following variables\n",
    "def standardized(data):\n",
    "    means = data.mean(axis=0)\n",
    "    stds = data.std(axis=0)\n",
    "    return (data - means) / stds\n",
    "\n",
    "xs_train_std = standardized(xs_train)\n",
    "ys_train_std = standardized(ys_train)\n",
    "\n",
    "xs_valid_std = standardized(xs_valid)\n",
    "ys_valid_std = standardized(ys_valid)\n",
    "\n",
    "xs_test_std = standardized(xs_test)\n",
    "ys_test_std = standardized(ys_test)"
   ]
  },
  {
   "cell_type": "code",
   "execution_count": 24,
   "id": "28875927-bb84-4b91-a451-3aafb42bdcc9",
   "metadata": {},
   "outputs": [
    {
     "name": "stdout",
     "output_type": "stream",
     "text": [
      "1.7988736604700613e-17\n",
      "5.450815378157961e-17\n",
      "2.1639119481018053e-17\n",
      "-9.583581914264586e-17\n",
      "-2.7264507890483246e-17\n",
      "-2.5553346307398523e-17\n",
      "[1. 1. 1. 1. 1. 1. 1. 1. 1. 1. 1. 1. 1. 1. 1. 1. 1. 1. 1. 1. 1.]\n",
      "[1. 1. 1. 1. 1. 1. 1. 1. 1. 1. 1. 1. 1. 1. 1. 1. 1. 1. 1. 1. 1.]\n",
      "[1. 1. 1. 1. 1. 1. 1. 1. 1. 1. 1. 1. 1. 1. 1. 1. 1. 1. 1. 1. 1.]\n"
     ]
    }
   ],
   "source": [
    "# Check for yourself\n",
    "# The following should lead to (roughly) six zeros and three arrays with (approximately) ones\n",
    "print(np.mean(xs_train_std))\n",
    "print(np.mean(ys_train_std))\n",
    "print(np.mean(xs_valid_std))\n",
    "print(np.mean(ys_valid_std))\n",
    "print(np.mean(xs_test_std))\n",
    "print(np.mean(ys_test_std))\n",
    "\n",
    "print(np.var(xs_train_std, axis=0))\n",
    "print(np.var(xs_valid_std, axis=0))\n",
    "print(np.var(xs_test_std, axis=0))"
   ]
  },
  {
   "cell_type": "markdown",
   "id": "92e51315-ee86-43b6-ba6d-f869d19e1e90",
   "metadata": {},
   "source": [
    "__Task A.3__"
   ]
  },
  {
   "cell_type": "code",
   "execution_count": 25,
   "id": "42b3ac19-e652-4a78-8cb7-f030c466144a",
   "metadata": {},
   "outputs": [],
   "source": [
    "# Task A.3.a\n",
    "# Implement a function estimating the variance\n",
    "def my_variance(xs):\n",
    "    \"\"\"Calculate the empirical variance of a given vector of scalars\n",
    "    \n",
    "    Arguments\n",
    "    xs      1d numpy array\n",
    "    \n",
    "    Returns\n",
    "    The empirical variance of the provided vector\n",
    "    \"\"\"\n",
    "    # Your implementation\n",
    "    mean = np.mean(xs)\n",
    "    sums = 0\n",
    "    for v in xs:\n",
    "        sums += (v[0]-mean)**2\n",
    "    return sums/xs.size\n"
   ]
  },
  {
   "cell_type": "code",
   "execution_count": 26,
   "id": "c3348e0c-6799-464a-9939-159dfd0e5a31",
   "metadata": {},
   "outputs": [
    {
     "name": "stdout",
     "output_type": "stream",
     "text": [
      "0.9999999999999957\n"
     ]
    }
   ],
   "source": [
    "# Task A.3.b\n",
    "# Calculate the variance of ys_train_std using your function my_variance\n",
    "var_ys_train = my_variance(ys_train_std)\n",
    "print(var_ys_train)"
   ]
  },
  {
   "cell_type": "code",
   "execution_count": 27,
   "id": "ad11e721-414a-4944-bd78-9e7b9c8163c3",
   "metadata": {},
   "outputs": [],
   "source": [
    "# Task A.3.c\n",
    "# Implement a function calculating the SMSE between two 1d numpy arrays given a normalizing factor\n",
    "def my_smse(z1, z2, s):\n",
    "    \"\"\"Calculate the Standardized Mean Squared Error (SMSE)\n",
    "    \n",
    "    Arguments\n",
    "    z1      1d numpy array (usually the predictions)\n",
    "    z2      1d numpy array (usually the test data)\n",
    "    s       Normalization factor (usually the variance of the test data)\n",
    "    \n",
    "    Returns\n",
    "    The SMSE of the provided data\n",
    "    \"\"\"\n",
    "    # Your implementation\n",
    "    N = z1.size\n",
    "    sums = 0\n",
    "    for i in range(N):\n",
    "        sums += (z1[i]-z2[i])**2\n",
    "    return sums/(N*s)"
   ]
  },
  {
   "cell_type": "markdown",
   "id": "ef4f8d54-4e5d-4706-81dc-50e5902d83db",
   "metadata": {},
   "source": [
    "## Linear regression\n",
    "### Simple linear regression\n",
    "__Task A.4__"
   ]
  },
  {
   "cell_type": "code",
   "execution_count": 28,
   "id": "2a9334e8-04c3-4b0b-aa79-ac3888b9ab59",
   "metadata": {},
   "outputs": [],
   "source": [
    "# This variable should contain the weights corresponding to simple linear regression (LS criterion, no bias term)\n",
    "w_lr = np.linalg.inv(xs_train_std.T.dot(xs_train_std)).dot(xs_train_std.T).dot(ys_train_std)\n",
    "\n",
    "# This variable should contain the predictions using w_lr on the test data\n",
    "ys_pred_valid = xs_valid_std.dot(w_lr)\n",
    "\n",
    "# This should contain the resulting smse\n",
    "smse_lr = my_smse(ys_pred_valid, ys_valid_std, var_ys_train)\n"
   ]
  },
  {
   "cell_type": "markdown",
   "id": "126a7728-c157-484a-8c19-737487f7dade",
   "metadata": {},
   "source": [
    "### Linear regression with polynomial features\n",
    "__Task A.5__"
   ]
  },
  {
   "cell_type": "code",
   "execution_count": 29,
   "id": "410e12b5-a083-4cdf-8801-c122eb597bb8",
   "metadata": {},
   "outputs": [],
   "source": [
    "# Task A.5.a\n",
    "def my_poly_features(xs, degree):\n",
    "    \"\"\"Generates polynomial features from given data\n",
    "    \n",
    "    The polynomial features should include monomials (i.e., x_i, x_i**2 etc)\n",
    "    and interaction terms (x_1*x_2 etc), but no repetitions.\n",
    "    The order of the samples should not be changed through the transformation.\n",
    "    \n",
    "    Arguments\n",
    "    xs      2d numpy array of shape (N,D) containing N samples of dimension D\n",
    "    degree  Maximum degree of polynomials to be considered\n",
    "    \n",
    "    Returns\n",
    "    An (N,M) numpy array containing the transformed input\n",
    "    \"\"\"\n",
    "    # Your implementation\n",
    "    N, D = xs.shape\n",
    "    r = np.array([]).reshape(N, -1)\n",
    "    if degree == 0 or D == 0:\n",
    "        return np.ones((N, 1))\n",
    "    for i in range(degree+1):\n",
    "        r = np.hstack((r, (xs[:, 0].reshape(N, 1)**i)*my_poly_features(xs[:, 1:].reshape(N, -1), degree-i)))\n",
    "    return r\n",
    "\n",
    "# TODO: 手动实现"
   ]
  },
  {
   "cell_type": "code",
   "execution_count": 30,
   "id": "88f1db66-1d17-425b-99dd-525e80112ca6",
   "metadata": {},
   "outputs": [],
   "source": [
    "# Tasks A.5.b\n",
    "# This variable should contain the weights corresponding to linear regression using polynomial features up to degree 2 and 3\n",
    "xs_train_std_poly2 = my_poly_features(xs_train_std,2)\n",
    "xs_train_std_poly3 = my_poly_features(xs_train_std,3)\n",
    "w_poly2 = np.linalg.inv(xs_train_std_poly2.T.dot(xs_train_std_poly2)).dot(xs_train_std_poly2.T).dot(ys_train_std)\n",
    "w_poly3 = np.linalg.inv(xs_train_std_poly3.T.dot(xs_train_std_poly3)).dot(xs_train_std_poly3.T).dot(ys_train_std)\n",
    "\n",
    "# This variable should contain the predictions using w_poly2 and w_poly3 on the validation data\n",
    "ys_pred_poly2_valid = my_poly_features(xs_valid_std,2).dot(w_poly2)\n",
    "ys_pred_poly3_valid = my_poly_features(xs_valid_std,3).dot(w_poly3)\n",
    "\n",
    "# This should contain the resulting smse\n",
    "smse_poly2 = my_smse(ys_pred_poly2_valid, ys_valid_std, var_ys_train)\n",
    "smse_poly3 = my_smse(ys_pred_poly3_valid, ys_valid_std, var_ys_train)"
   ]
  },
  {
   "cell_type": "markdown",
   "id": "951d9707-89e6-451b-ac2d-8423845ab019",
   "metadata": {},
   "source": [
    "## Clustering\n",
    "__Task B.1__ Implement the basic $K$-Means algorithm."
   ]
  },
  {
   "cell_type": "code",
   "execution_count": 31,
   "id": "91c523b8-f2ed-41df-9dbb-afd254102f8a",
   "metadata": {},
   "outputs": [],
   "source": [
    "def my_kmeans(xs, init_centers, n_iter):\n",
    "    \"\"\"Runs the K-Means algorithm from a given initialization\n",
    "    \n",
    "    Arguments\n",
    "    xs            2d numpy array of shape (N,D) containing N samples of dimension D\n",
    "    init_centers  2d numpy array of shape (K,D) containing the initial cluster centers\n",
    "    n_iter        Number of iterations of the K-Means algorithm\n",
    "    \n",
    "    Returns\n",
    "    An (K,D) numpy array containing the final cluster centers\n",
    "    \"\"\"\n",
    "    # Your implementation\n",
    "    pass"
   ]
  },
  {
   "cell_type": "markdown",
   "id": "8fbbdd8d-0316-4eba-9172-e9411bead541",
   "metadata": {},
   "source": [
    "__Task B.2__ Generate test data set and plot it."
   ]
  },
  {
   "cell_type": "code",
   "execution_count": 32,
   "id": "9c0e6ca9-f070-4590-a130-d1b5aef0c736",
   "metadata": {},
   "outputs": [],
   "source": [
    "# Test data of shape (100,2)\n",
    "# xs_cluster_test = "
   ]
  },
  {
   "cell_type": "markdown",
   "id": "c8583191-6666-4fb1-aa81-4a2994e502c2",
   "metadata": {},
   "source": [
    "__Task B.3__ Run your $K$-Means algorithm on the test data for $K=2,3,4,5$ clusters and plot the final cluster centers."
   ]
  },
  {
   "cell_type": "code",
   "execution_count": 33,
   "id": "f20b50a8-ab79-4808-af16-3f29f4131837",
   "metadata": {},
   "outputs": [],
   "source": [
    "# Use kmeans_plusplus(xs_cluster_test, K, random_state=0) for initialization"
   ]
  },
  {
   "cell_type": "markdown",
   "id": "664368f6-688f-45ed-8ca2-4c26fe915a67",
   "metadata": {},
   "source": [
    "## Radial Basis Function Network\n",
    "__Task C.1__ Find $K=100$ cluster centers using $K$-Means."
   ]
  },
  {
   "cell_type": "code",
   "execution_count": 34,
   "id": "0fdbd9b8-f444-4546-a703-491d430ca44e",
   "metadata": {},
   "outputs": [],
   "source": [
    "# This 100x21 numpy array should contain the cluster centers\n",
    "# xs_centers = "
   ]
  },
  {
   "cell_type": "markdown",
   "id": "283eb1a9-5e6d-4df6-a653-c4912a2c4046",
   "metadata": {},
   "source": [
    "__Task C.2__ Implement the Gaussian basis functions and transform the data accordingly"
   ]
  },
  {
   "cell_type": "code",
   "execution_count": 35,
   "id": "4829d70b-7276-449d-a801-c151a2d19279",
   "metadata": {},
   "outputs": [],
   "source": [
    "# xs_train_gauss = "
   ]
  },
  {
   "cell_type": "markdown",
   "id": "ee397e68-58af-4936-b70a-ea9f21510483",
   "metadata": {},
   "source": [
    "__Task C.3__ Run simple linear regression on the transformed data and evaluate it on the test set"
   ]
  },
  {
   "cell_type": "code",
   "execution_count": 36,
   "id": "3520a758-68a4-4cc3-8913-0bae0c6ae1aa",
   "metadata": {},
   "outputs": [],
   "source": [
    "# This should contain the resulting predictions on the validation data set\n",
    "# ys_pred_gauss_valid = \n",
    "\n",
    "# This should contain the corresponding SMSE\n",
    "# smse_gauss = "
   ]
  },
  {
   "cell_type": "markdown",
   "id": "0311c46c-af9b-45a6-8926-0648b4e3a218",
   "metadata": {},
   "source": [
    "__Open task__ Can you improve the performance of the RBF network?"
   ]
  },
  {
   "cell_type": "markdown",
   "id": "586f77ae-b5f9-4e02-9564-42573e5045a2",
   "metadata": {},
   "source": [
    "__Task C.4__ Evaluate your final model (either the one from Task C.3 or your improved model from the open task) on the test data"
   ]
  },
  {
   "cell_type": "code",
   "execution_count": 37,
   "id": "a35eda50-ec10-453d-952a-82c73dfd2b0e",
   "metadata": {},
   "outputs": [],
   "source": [
    "# This should contain the predictions on the test data set\n",
    "# ys_pred_test = \n",
    "\n",
    "# This should contain the resulting SMSE on the test data\n",
    "# smse_test = "
   ]
  }
 ],
 "metadata": {
  "kernelspec": {
   "display_name": "Python 3 (ipykernel)",
   "language": "python",
   "name": "python3"
  },
  "language_info": {
   "codemirror_mode": {
    "name": "ipython",
    "version": 3
   },
   "file_extension": ".py",
   "mimetype": "text/x-python",
   "name": "python",
   "nbconvert_exporter": "python",
   "pygments_lexer": "ipython3",
   "version": "3.9.7"
  }
 },
 "nbformat": 4,
 "nbformat_minor": 5
}