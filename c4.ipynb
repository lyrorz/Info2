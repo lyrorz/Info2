{
 "cells": [
  {
   "cell_type": "code",
   "execution_count": 2,
   "outputs": [],
   "source": [
    "import collections\n",
    "import numpy as np\n",
    "import scipy.io as scio\n",
    "from matplotlib import pyplot as plt\n",
    "from sklearn.cluster import kmeans_plusplus\n",
    "import matplotlib.pyplot as plt\n",
    "from sklearn.preprocessing import PolynomialFeatures"
   ],
   "metadata": {
    "collapsed": false,
    "pycharm": {
     "name": "#%%\n"
    }
   }
  },
  {
   "cell_type": "code",
   "execution_count": 3,
   "metadata": {
    "collapsed": true
   },
   "outputs": [
    {
     "name": "stdout",
     "output_type": "stream",
     "text": [
      "[0.03860837]\n"
     ]
    }
   ],
   "source": [
    "\n",
    "np.random.seed(1234)\n",
    "data = scio.loadmat('sarcos_inv.mat')['sarcos_inv']\n",
    "np.random.shuffle(data)\n",
    "n = data.shape[0]\n",
    "xs_train = data[:int(n*0.8),:21]\n",
    "ys_train = data[:int(n*0.8),21].reshape(-1,1)\n",
    "xs_valid = data[int(n*0.8):,:21]\n",
    "ys_valid = data[int(n*0.8):,21].reshape(-1,1)\n",
    "data = scio.loadmat('sarcos_inv_test.mat')['sarcos_inv_test']\n",
    "xs_test = data[:,:21]\n",
    "ys_test = data[:,21].reshape(-1,1)\n",
    "\n",
    "def standardized(data):\n",
    "    means = data.mean(axis=0)\n",
    "    stds = data.std(axis=0)\n",
    "    return (data - means) / stds\n",
    "\n",
    "xs_train_std = standardized(xs_train)\n",
    "ys_train_std = standardized(ys_train)\n",
    "xs_valid_std = standardized(xs_valid)\n",
    "ys_valid_std = standardized(ys_valid)\n",
    "xs_test_std = standardized(xs_test)\n",
    "ys_test_std = standardized(ys_test)\n",
    "\n",
    "def gaussian_transform(x,x_centers):\n",
    "    N,D = x.shape\n",
    "    K,D = x_centers.shape\n",
    "    re = np.array([]).reshape(-1,K)\n",
    "    a = 1.0/(np.sqrt(2*np.pi*(25**2)))\n",
    "    sigma = 25\n",
    "    sigma_2 = sigma**2\n",
    "    for i in range(N):\n",
    "        r_2 = ((x_centers-x[i,:])**2).sum(axis=1)\n",
    "        psi = a*np.exp(-r_2/(2*sigma_2))\n",
    "        re = np.vstack((re,psi))\n",
    "    return re\n",
    "\n",
    "\n",
    "def my_variance(xs):\n",
    "    mean = np.mean(xs)\n",
    "    sums = 0\n",
    "    for v in xs:\n",
    "        sums += (v[0] - mean) ** 2\n",
    "    return sums / xs.size\n",
    "\n",
    "def my_smse(z1, z2, s):\n",
    "    N = z1.size\n",
    "    sums = 0\n",
    "    for i in range(N):\n",
    "        sums += (z1[i] - z2[i]) ** 2\n",
    "    return sums / (N * s)\n",
    "var_ys_train = my_variance(ys_train_std)\n",
    "xs_centers = kmeans_plusplus(xs_train_std,150, random_state=0)[0]\n",
    "xs_train_gauss = gaussian_transform(xs_train_std, xs_centers)\n",
    "w_glr = np.linalg.inv(xs_train_gauss.T.dot(xs_train_gauss)).dot(xs_train_gauss.T).dot(ys_train_std)\n",
    "xs_valid_gauss = gaussian_transform(xs_valid_std, xs_centers)\n",
    "ys_pred_gauss_valid = xs_valid_gauss.dot(w_glr)\n",
    "smse_gauss = my_smse(ys_pred_gauss_valid, ys_valid_std, var_ys_train)\n",
    "print(smse_gauss)"
   ]
  },
  {
   "cell_type": "code",
   "execution_count": 4,
   "outputs": [
    {
     "name": "stdout",
     "output_type": "stream",
     "text": [
      "(35587, 150)\n"
     ]
    }
   ],
   "source": [
    "print(xs_train_gauss.shape)"
   ],
   "metadata": {
    "collapsed": false,
    "pycharm": {
     "name": "#%%\n"
    }
   }
  },
  {
   "cell_type": "code",
   "execution_count": 5,
   "outputs": [
    {
     "name": "stdout",
     "output_type": "stream",
     "text": [
      "[0.03860837]\n"
     ]
    }
   ],
   "source": [
    "\n",
    "w_rglr = np.linalg.inv(xs_train_gauss.T.dot(xs_train_gauss)+0*np.eye(xs_train_gauss.shape[1])).dot(xs_train_gauss.T).dot(ys_train_std)\n",
    "ys_pred_gauss_valid = xs_valid_gauss.dot(w_rglr)\n",
    "smse_gauss = my_smse(ys_pred_gauss_valid, ys_valid_std, var_ys_train)\n",
    "print(smse_gauss)"
   ],
   "metadata": {
    "collapsed": false,
    "pycharm": {
     "name": "#%%\n"
    }
   }
  },
  {
   "cell_type": "code",
   "execution_count": null,
   "outputs": [],
   "source": [
    "def my_poly_features(xs, degree):\n",
    "    reg = PolynomialFeatures(degree=degree)\n",
    "    return reg.fit_transform(xs)\n",
    "xs_train_std_poly2 = my_poly_features(xs_train_gauss,2)\n",
    "w_poly2 = np.linalg.inv(xs_train_std_poly2.T.dot(xs_train_std_poly2)).dot(xs_train_std_poly2.T).dot(ys_train_std)\n",
    "# This variable should contain the predictions using w_poly2 and w_poly3 on the validation data\n",
    "ys_pred_poly2_valid = my_poly_features(xs_valid_gauss,2).dot(w_poly2)\n",
    "\n",
    "# This should contain the resulting smse\n",
    "smse_poly2 = my_smse(ys_pred_poly2_valid, ys_valid_std, var_ys_train)"
   ],
   "metadata": {
    "collapsed": false,
    "pycharm": {
     "name": "#%%\n",
     "is_executing": true
    }
   }
  },
  {
   "cell_type": "code",
   "execution_count": null,
   "outputs": [],
   "source": [],
   "metadata": {
    "collapsed": false,
    "pycharm": {
     "name": "#%%\n"
    }
   }
  }
 ],
 "metadata": {
  "kernelspec": {
   "display_name": "Python 3",
   "language": "python",
   "name": "python3"
  },
  "language_info": {
   "codemirror_mode": {
    "name": "ipython",
    "version": 2
   },
   "file_extension": ".py",
   "mimetype": "text/x-python",
   "name": "python",
   "nbconvert_exporter": "python",
   "pygments_lexer": "ipython2",
   "version": "2.7.6"
  }
 },
 "nbformat": 4,
 "nbformat_minor": 0
}